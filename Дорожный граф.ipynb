{
 "cells": [
  {
   "cell_type": "code",
   "execution_count": null,
   "metadata": {},
   "outputs": [],
   "source": []
  },
  {
   "cell_type": "code",
   "execution_count": null,
   "metadata": {},
   "outputs": [],
   "source": [
    "# Скоростные ограничения"
   ]
  },
  {
   "cell_type": "code",
   "execution_count": null,
   "metadata": {},
   "outputs": [],
   "source": [
    "vdnh = ox.graph_from_polygon(vdnh_area, network_type='walk' )\n",
    "\n",
    "g_vdnh=ox.project_graph(vdnh,to_crs={'init':'epsg:3857'})\n",
    "betw_centr=nx.betweenness_centrality(nx.DiGraph(g_vdnh))"
   ]
  },
  {
   "cell_type": "code",
   "execution_count": null,
   "metadata": {},
   "outputs": [],
   "source": [
    "g_mos_walk=ox.graph_from_place('Moscow, Russia', network_type='walk')\n",
    "\n",
    "g_mos_pr=ox.project_graph(g_mos_walk, to_crs='epsg:3857')"
   ]
  },
  {
   "cell_type": "code",
   "execution_count": null,
   "metadata": {},
   "outputs": [],
   "source": [
    "simplify"
   ]
  },
  {
   "cell_type": "code",
   "execution_count": null,
   "metadata": {},
   "outputs": [],
   "source": [
    "df_speedlimit = pd.read_csv('/Users/intra26/Downloads/дороги_ограничения.csv')\n",
    "\n",
    "df_speedlimit.columns\n",
    "\n",
    "from shapely.geometry import LineString\n",
    "\n",
    "import geopandas as gpd\n",
    "\n",
    "def receive_geometry (x):\n",
    "    l=[]\n",
    "    for coords in x.split(';'):\n",
    "#         print(coords)\n",
    "        if '#' in coords:\n",
    "            l.append((float(coords.split('#')[0].split(',')[1]),float(coords.split('#')[0].split(',')[0])))\n",
    "        elif ',' in coords:\n",
    "            l.append((float(coords.split(',')[1]),float(coords.split(',')[0])))\n",
    "        \n",
    "    return LineString(l) \n",
    "\n",
    "df_speedlimit['geometry']= df_speedlimit['AreaCoordinates'].map(receive_geometry)\n",
    "\n",
    "df_speedlimit.drop('GEOMETRY', axis=1,inplace=True)\n",
    "\n",
    "gdf_speedlimit = gpd.GeoDataFrame(df_speedlimit, crs='epsg:4326',geometry='geometry')\n",
    "\n",
    "gdf_speedlimit.to_file('gdf_speedlimit.geojson', driver='GeoJSON')"
   ]
  }
 ],
 "metadata": {
  "kernelspec": {
   "display_name": "Python 3",
   "language": "python",
   "name": "python3"
  },
  "language_info": {
   "codemirror_mode": {
    "name": "ipython",
    "version": 3
   },
   "file_extension": ".py",
   "mimetype": "text/x-python",
   "name": "python",
   "nbconvert_exporter": "python",
   "pygments_lexer": "ipython3",
   "version": "3.8.5"
  }
 },
 "nbformat": 4,
 "nbformat_minor": 4
}
